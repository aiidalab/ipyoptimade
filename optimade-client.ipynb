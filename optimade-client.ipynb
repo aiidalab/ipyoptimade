{
 "cells": [
  {
   "cell_type": "code",
   "execution_count": 1,
   "metadata": {},
   "outputs": [
    {
     "ename": "AttributeError",
     "evalue": "partially initialized module 'ipyoptimade' has no attribute '__version__' (most likely due to a circular import)",
     "output_type": "error",
     "traceback": [
      "\u001b[0;31m---------------------------------------------------------------------------\u001b[0m",
      "\u001b[0;31mAttributeError\u001b[0m                            Traceback (most recent call last)",
      "\u001b[0;32m/tmp/ipykernel_81429/2255629860.py\u001b[0m in \u001b[0;36m<cell line: 1>\u001b[0;34m()\u001b[0m\n\u001b[0;32m----> 1\u001b[0;31m from ipyoptimade import (\n\u001b[0m\u001b[1;32m      2\u001b[0m     \u001b[0mHeaderDescription\u001b[0m\u001b[0;34m,\u001b[0m\u001b[0;34m\u001b[0m\u001b[0;34m\u001b[0m\u001b[0m\n\u001b[1;32m      3\u001b[0m     \u001b[0mOptimadeClientFAQ\u001b[0m\u001b[0;34m,\u001b[0m\u001b[0;34m\u001b[0m\u001b[0;34m\u001b[0m\u001b[0m\n\u001b[1;32m      4\u001b[0m     \u001b[0mOptimadeLog\u001b[0m\u001b[0;34m,\u001b[0m\u001b[0;34m\u001b[0m\u001b[0;34m\u001b[0m\u001b[0m\n\u001b[1;32m      5\u001b[0m     \u001b[0mOptimadeQueryProviderWidget\u001b[0m\u001b[0;34m,\u001b[0m\u001b[0;34m\u001b[0m\u001b[0;34m\u001b[0m\u001b[0m\n",
      "\u001b[0;32m~/ipyoptimade/src/ipyoptimade/__init__.py\u001b[0m in \u001b[0;36m<module>\u001b[0;34m\u001b[0m\n\u001b[1;32m      4\u001b[0m \u001b[0mJupyter\u001b[0m \u001b[0mwidgets\u001b[0m \u001b[0;32mfor\u001b[0m \u001b[0mbuilding\u001b[0m \u001b[0msearching\u001b[0m \u001b[0mclient\u001b[0m \u001b[0mthrough\u001b[0m \u001b[0mOPTIMADE\u001b[0m \u001b[0mdatabases\u001b[0m\u001b[0;34m.\u001b[0m\u001b[0;34m\u001b[0m\u001b[0;34m\u001b[0m\u001b[0m\n\u001b[1;32m      5\u001b[0m \"\"\"\n\u001b[0;32m----> 6\u001b[0;31m \u001b[0;32mfrom\u001b[0m \u001b[0;34m.\u001b[0m\u001b[0minformational\u001b[0m \u001b[0;32mimport\u001b[0m \u001b[0mOptimadeClientFAQ\u001b[0m\u001b[0;34m,\u001b[0m \u001b[0mHeaderDescription\u001b[0m\u001b[0;34m,\u001b[0m \u001b[0mOptimadeLog\u001b[0m\u001b[0;34m\u001b[0m\u001b[0;34m\u001b[0m\u001b[0m\n\u001b[0m\u001b[1;32m      7\u001b[0m \u001b[0;32mfrom\u001b[0m \u001b[0;34m.\u001b[0m\u001b[0mquery_provider\u001b[0m \u001b[0;32mimport\u001b[0m \u001b[0mOptimadeQueryProviderWidget\u001b[0m\u001b[0;34m\u001b[0m\u001b[0;34m\u001b[0m\u001b[0m\n\u001b[1;32m      8\u001b[0m \u001b[0;32mfrom\u001b[0m \u001b[0;34m.\u001b[0m\u001b[0mquery_filter\u001b[0m \u001b[0;32mimport\u001b[0m \u001b[0mOptimadeQueryFilterWidget\u001b[0m\u001b[0;34m\u001b[0m\u001b[0;34m\u001b[0m\u001b[0m\n",
      "\u001b[0;32m~/ipyoptimade/src/ipyoptimade/informational.py\u001b[0m in \u001b[0;36m<module>\u001b[0;34m\u001b[0m\n\u001b[1;32m     17\u001b[0m \u001b[0;34m\u001b[0m\u001b[0m\n\u001b[1;32m     18\u001b[0m \u001b[0;34m\u001b[0m\u001b[0m\n\u001b[0;32m---> 19\u001b[0;31m \u001b[0;32mclass\u001b[0m \u001b[0mHeaderDescription\u001b[0m\u001b[0;34m(\u001b[0m\u001b[0mipw\u001b[0m\u001b[0;34m.\u001b[0m\u001b[0mVBox\u001b[0m\u001b[0;34m)\u001b[0m\u001b[0;34m:\u001b[0m\u001b[0;34m\u001b[0m\u001b[0;34m\u001b[0m\u001b[0m\n\u001b[0m\u001b[1;32m     20\u001b[0m     \"\"\"Top logo and description of the OPTIMADE Client\n\u001b[1;32m     21\u001b[0m \u001b[0;34m\u001b[0m\u001b[0m\n",
      "\u001b[0;32m~/ipyoptimade/src/ipyoptimade/informational.py\u001b[0m in \u001b[0;36mHeaderDescription\u001b[0;34m()\u001b[0m\n\u001b[1;32m     36\u001b[0m     HEADER = f\"\"\"<p style=\"font-size:14px;\">\n\u001b[1;32m     37\u001b[0m \u001b[0;34m<\u001b[0m\u001b[0mb\u001b[0m\u001b[0;34m>\u001b[0m\u001b[0mCurrently\u001b[0m \u001b[0mvalid\u001b[0m \u001b[0mOPTIMADE\u001b[0m \u001b[0mAPI\u001b[0m \u001b[0mversion\u001b[0m\u001b[0;34m<\u001b[0m\u001b[0;34m/\u001b[0m\u001b[0mb\u001b[0m\u001b[0;34m>\u001b[0m\u001b[0;34m:\u001b[0m \u001b[0;34m<\u001b[0m\u001b[0mcode\u001b[0m\u001b[0;34m>\u001b[0m\u001b[0mv\u001b[0m\u001b[0;34m{\u001b[0m\u001b[0m__optimade_version__\u001b[0m\u001b[0;34m[\u001b[0m\u001b[0;36m0\u001b[0m\u001b[0;34m]\u001b[0m\u001b[0;34m}\u001b[0m\u001b[0;34m<\u001b[0m\u001b[0;34m/\u001b[0m\u001b[0mcode\u001b[0m\u001b[0;34m>\u001b[0m\u001b[0;34m<\u001b[0m\u001b[0mbr\u001b[0m\u001b[0;34m>\u001b[0m\u001b[0;34m\u001b[0m\u001b[0;34m\u001b[0m\u001b[0m\n\u001b[0;32m---> 38\u001b[0;31m \u001b[0;34m<\u001b[0m\u001b[0mb\u001b[0m\u001b[0;34m>\u001b[0m\u001b[0mClient\u001b[0m \u001b[0mversion\u001b[0m\u001b[0;34m<\u001b[0m\u001b[0;34m/\u001b[0m\u001b[0mb\u001b[0m\u001b[0;34m>\u001b[0m\u001b[0;34m:\u001b[0m \u001b[0;34m<\u001b[0m\u001b[0mcode\u001b[0m\u001b[0;34m>\u001b[0m\u001b[0;34m{\u001b[0m\u001b[0mipyoptimade\u001b[0m\u001b[0;34m.\u001b[0m\u001b[0m__version__\u001b[0m\u001b[0;34m}\u001b[0m\u001b[0;34m<\u001b[0m\u001b[0;34m/\u001b[0m\u001b[0mcode\u001b[0m\u001b[0;34m>\u001b[0m\u001b[0;34m<\u001b[0m\u001b[0mbr\u001b[0m\u001b[0;34m>\u001b[0m\u001b[0;34m\u001b[0m\u001b[0;34m\u001b[0m\u001b[0m\n\u001b[0m\u001b[1;32m     39\u001b[0m \u001b[0;34m<\u001b[0m\u001b[0mb\u001b[0m\u001b[0;34m>\u001b[0m\u001b[0mSource\u001b[0m \u001b[0mcode\u001b[0m\u001b[0;34m<\u001b[0m\u001b[0;34m/\u001b[0m\u001b[0mb\u001b[0m\u001b[0;34m>\u001b[0m\u001b[0;34m:\u001b[0m \u001b[0;34m<\u001b[0m\u001b[0ma\u001b[0m \u001b[0mhref\u001b[0m\u001b[0;34m=\u001b[0m\u001b[0;34m\"{SOURCE_URL}\"\u001b[0m \u001b[0mtarget\u001b[0m\u001b[0;34m=\u001b[0m\u001b[0;34m\"_blank\"\u001b[0m\u001b[0;34m>\u001b[0m\u001b[0mGitHub\u001b[0m\u001b[0;34m<\u001b[0m\u001b[0;34m/\u001b[0m\u001b[0ma\u001b[0m\u001b[0;34m>\u001b[0m\u001b[0;34m\u001b[0m\u001b[0;34m\u001b[0m\u001b[0m\n\u001b[1;32m     40\u001b[0m \u001b[0;34m<\u001b[0m\u001b[0;34m/\u001b[0m\u001b[0mp\u001b[0m\u001b[0;34m>\u001b[0m\u001b[0;34m\u001b[0m\u001b[0;34m\u001b[0m\u001b[0m\n",
      "\u001b[0;31mAttributeError\u001b[0m: partially initialized module 'ipyoptimade' has no attribute '__version__' (most likely due to a circular import)"
     ]
    }
   ],
   "source": [
    "from ipyoptimade import (\n",
    "    HeaderDescription,\n",
    "    OptimadeClientFAQ,\n",
    "    OptimadeLog,\n",
    "    OptimadeQueryProviderWidget,\n",
    "    OptimadeQueryFilterWidget,\n",
    "    OptimadeSummaryWidget,\n",
    ")\n",
    "from ipywidgets import dlink, HTML\n",
    "from IPython.display import display\n",
    "\n",
    "# NOTE: Temporarily disable providers NOT properly satisfying the OPTIMADE specification\n",
    "# Follow issue #206: https://github.com/CasperWA/voila-optimade-client/issues/206\n",
    "# For omdb: Follow issue #246: https://github.com/CasperWA/voila-optimade-client/issues/246\n",
    "disable_providers = [\n",
    "    \"cod\",\n",
    "    \"tcod\",\n",
    "    \"nmd\",\n",
    "    \"oqmd\",\n",
    "    \"aflow\",\n",
    "    \"matcloud\",\n",
    "    \"mpds\",\n",
    "    \"necro\",\n",
    "    \"jarvis\",\n",
    "]\n",
    "# Curate and group Materials Cloud databases\n",
    "skip_databases = {\"Materials Cloud\": [\"li-ion-conductors\"]}\n",
    "database_grouping = {\n",
    "    \"Materials Cloud\": {\n",
    "        \"General\": [\"curated-cofs\"],\n",
    "        \"Projects\": [\n",
    "            \"2dstructures\",\n",
    "            \"2dtopo\",\n",
    "            \"pyrene-mofs\",\n",
    "            \"scdm\",\n",
    "            \"sssp\",\n",
    "            \"stoceriaitf\",\n",
    "            \"tc-applicability\",\n",
    "            \"threedd\",\n",
    "        ]}\n",
    "}\n",
    "\n",
    "selector = OptimadeQueryProviderWidget(\n",
    "    disable_providers=disable_providers,\n",
    "    skip_providers=[\"exmpl\", \"optimade\", \"aiida\"],\n",
    "    skip_databases=skip_databases,\n",
    "    provider_database_groupings=database_grouping,\n",
    ")\n",
    "filters = OptimadeQueryFilterWidget()\n",
    "summary = OptimadeSummaryWidget(direction=\"horizontal\")\n",
    "\n",
    "_ = dlink((selector, 'database'), (filters, 'database'))\n",
    "_ = dlink((filters, 'structure'), (summary, 'entity'))\n",
    "\n",
    "HeaderDescription()"
   ]
  },
  {
   "cell_type": "code",
   "execution_count": null,
   "metadata": {},
   "outputs": [],
   "source": [
    "OptimadeClientFAQ()"
   ]
  },
  {
   "cell_type": "code",
   "execution_count": null,
   "metadata": {},
   "outputs": [],
   "source": [
    "OptimadeLog()"
   ]
  },
  {
   "cell_type": "code",
   "execution_count": null,
   "metadata": {},
   "outputs": [],
   "source": [
    "display(HTML('<h2 style=\"margin-below:0px;padding-below:0px;\">Query a provider\\'s database</h2>'))\n",
    "\n",
    "display(selector, filters, summary)"
   ]
  }
 ],
 "metadata": {
  "kernelspec": {
   "display_name": "Python 3 (ipykernel)",
   "language": "python",
   "name": "python3"
  },
  "language_info": {
   "codemirror_mode": {
    "name": "ipython",
    "version": 3
   },
   "file_extension": ".py",
   "mimetype": "text/x-python",
   "name": "python",
   "nbconvert_exporter": "python",
   "pygments_lexer": "ipython3",
   "version": "3.9.13"
  }
 },
 "nbformat": 4,
 "nbformat_minor": 4
}
