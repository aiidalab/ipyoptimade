{
 "cells": [
  {
   "cell_type": "code",
   "execution_count": 1,
   "metadata": {},
   "outputs": [
    {
     "data": {
      "application/vnd.jupyter.widget-view+json": {
       "model_id": "e9f8676bfceb4f9e9c5e115c2abc6793",
       "version_major": 2,
       "version_minor": 0
      },
      "text/plain": []
     },
     "metadata": {},
     "output_type": "display_data"
    },
    {
     "data": {
      "application/vnd.jupyter.widget-view+json": {
       "model_id": "82d4ed300501411b8e5eb698b91add50",
       "version_major": 2,
       "version_minor": 0
      },
      "text/plain": [
       "HeaderDescription(children=(ReportLogger(value=\"<input type='hidden' id='report_log' value='%3Cdetails%3E%0A++…"
      ]
     },
     "metadata": {},
     "output_type": "display_data"
    }
   ],
   "source": [
    "from ipyoptimade import (\n",
    "    HeaderDescription,\n",
    "    OptimadeClientFAQ,\n",
    "    OptimadeLog,\n",
    "    OptimadeQueryProviderWidget,\n",
    "    OptimadeQueryFilterWidget,\n",
    "    OptimadeSummaryWidget,\n",
    ")\n",
    "from ipywidgets import dlink, HTML\n",
    "from IPython.display import display\n",
    "\n",
    "# NOTE: Temporarily disable providers NOT properly satisfying the OPTIMADE specification\n",
    "# Follow issue #206: https://github.com/CasperWA/voila-optimade-client/issues/206\n",
    "# For omdb: Follow issue #246: https://github.com/CasperWA/voila-optimade-client/issues/246\n",
    "disable_providers = [\n",
    "    \"cod\",\n",
    "    \"tcod\",\n",
    "    \"nmd\",\n",
    "    \"oqmd\",\n",
    "    \"aflow\",\n",
    "    \"matcloud\",\n",
    "    \"mpds\",\n",
    "    \"necro\",\n",
    "    \"jarvis\",\n",
    "]\n",
    "# Curate and group Materials Cloud databases\n",
    "skip_databases = {\"Materials Cloud\": [\"li-ion-conductors\"]}\n",
    "database_grouping = {\n",
    "    \"Materials Cloud\": {\n",
    "        \"General\": [\"curated-cofs\"],\n",
    "        \"Projects\": [\n",
    "            \"2dstructures\",\n",
    "            \"2dtopo\",\n",
    "            \"pyrene-mofs\",\n",
    "            \"scdm\",\n",
    "            \"sssp\",\n",
    "            \"stoceriaitf\",\n",
    "            \"tc-applicability\",\n",
    "            \"threedd\",\n",
    "        ]}\n",
    "}\n",
    "\n",
    "selector = OptimadeQueryProviderWidget(\n",
    "    disable_providers=disable_providers,\n",
    "    skip_providers=[\"exmpl\", \"optimade\", \"aiida\"],\n",
    "    skip_databases=skip_databases,\n",
    "    provider_database_groupings=database_grouping,\n",
    ")\n",
    "filters = OptimadeQueryFilterWidget()\n",
    "summary = OptimadeSummaryWidget(direction=\"horizontal\")\n",
    "\n",
    "_ = dlink((selector, 'database'), (filters, 'database'))\n",
    "_ = dlink((filters, 'structure'), (summary, 'entity'))\n",
    "\n",
    "HeaderDescription()"
   ]
  },
  {
   "cell_type": "code",
   "execution_count": 2,
   "metadata": {},
   "outputs": [
    {
     "data": {
      "application/vnd.jupyter.widget-view+json": {
       "model_id": "b83526abcd2343049317e4496588d662",
       "version_major": 2,
       "version_minor": 0
      },
      "text/plain": [
       "OptimadeClientFAQ(children=(HTML(value='<h4 style=\"font-weight:bold;\">Why is a given provider not shown in the…"
      ]
     },
     "metadata": {},
     "output_type": "display_data"
    }
   ],
   "source": [
    "OptimadeClientFAQ()"
   ]
  },
  {
   "cell_type": "code",
   "execution_count": 3,
   "metadata": {},
   "outputs": [
    {
     "data": {
      "application/vnd.jupyter.widget-view+json": {
       "model_id": "3f02b4ec74564de8a6ec761a17751462",
       "version_major": 2,
       "version_minor": 0
      },
      "text/plain": [
       "OptimadeLog(children=(VBox(children=(HBox(children=(Checkbox(value=False, description='Show DEBUG messages', i…"
      ]
     },
     "metadata": {},
     "output_type": "display_data"
    }
   ],
   "source": [
    "OptimadeLog()"
   ]
  },
  {
   "cell_type": "code",
   "execution_count": 4,
   "metadata": {},
   "outputs": [
    {
     "data": {
      "application/vnd.jupyter.widget-view+json": {
       "model_id": "021116931a094174bd16a6b88a11a761",
       "version_major": 2,
       "version_minor": 0
      },
      "text/plain": [
       "HTML(value='<h2 style=\"margin-below:0px;padding-below:0px;\">Query a provider\\'s database</h2>')"
      ]
     },
     "metadata": {},
     "output_type": "display_data"
    },
    {
     "data": {
      "application/vnd.jupyter.widget-view+json": {
       "model_id": "78a923e6177c468cb869e1b9a90ffb35",
       "version_major": 2,
       "version_minor": 0
      },
      "text/plain": [
       "OptimadeQueryProviderWidget(children=(ProviderImplementationChooser(children=(DropdownExtended(layout=Layout(w…"
      ]
     },
     "metadata": {},
     "output_type": "display_data"
    },
    {
     "data": {
      "application/vnd.jupyter.widget-view+json": {
       "model_id": "2c98bedf69ab487095282c744a0b7478",
       "version_major": 2,
       "version_minor": 0
      },
      "text/plain": [
       "OptimadeQueryFilterWidget(children=(HTML(value='<h4 style=\"margin:0px;padding:0px;\">Apply filters</h4>'), Filt…"
      ]
     },
     "metadata": {},
     "output_type": "display_data"
    },
    {
     "data": {
      "application/vnd.jupyter.widget-view+json": {
       "model_id": "527176cc834f46958a6486599e87c603",
       "version_major": 2,
       "version_minor": 0
      },
      "text/plain": [
       "OptimadeSummaryWidget(children=(StructureViewer(children=(Box(children=(NGLWidget(),), layout=Layout(border='s…"
      ]
     },
     "metadata": {},
     "output_type": "display_data"
    }
   ],
   "source": [
    "display(HTML('<h2 style=\"margin-below:0px;padding-below:0px;\">Query a provider\\'s database</h2>'))\n",
    "\n",
    "display(selector, filters, summary)"
   ]
  }
 ],
 "metadata": {
  "kernelspec": {
   "display_name": "Python 3 (ipykernel)",
   "language": "python",
   "name": "python3"
  },
  "language_info": {
   "codemirror_mode": {
    "name": "ipython",
    "version": 3
   },
   "file_extension": ".py",
   "mimetype": "text/x-python",
   "name": "python",
   "nbconvert_exporter": "python",
   "pygments_lexer": "ipython3",
   "version": "3.9.13"
  }
 },
 "nbformat": 4,
 "nbformat_minor": 4
}
