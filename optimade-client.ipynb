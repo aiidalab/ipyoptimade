{
 "cells": [
  {
   "cell_type": "code",
   "execution_count": null,
   "metadata": {},
   "outputs": [],
   "source": [
    "from ipyoptimade import (\n",
    "    HeaderDescription,\n",
    "    OptimadeClientFAQ,\n",
    "    OptimadeLog,\n",
    "    OptimadeQueryProviderWidget,\n",
    "    OptimadeQueryFilterWidget,\n",
    "    OptimadeSummaryWidget,\n",
    ")\n",
    "from ipywidgets import dlink, HTML\n",
    "from IPython.display import display\n",
    "\n",
    "HeaderDescription()"
   ]
  },
  {
   "cell_type": "code",
   "execution_count": null,
   "metadata": {},
   "outputs": [],
   "source": [
    "OptimadeClientFAQ()"
   ]
  },
  {
   "cell_type": "code",
   "execution_count": null,
   "metadata": {},
   "outputs": [],
   "source": [
    "OptimadeLog()"
   ]
  },
  {
   "cell_type": "code",
   "execution_count": null,
   "metadata": {},
   "outputs": [],
   "source": [
    "providers = OptimadeQueryProviderWidget()\n",
    "filters = OptimadeQueryFilterWidget()\n",
    "summary = OptimadeSummaryWidget(direction=\"horizontal\")\n",
    "\n",
    "_ = dlink((providers, 'database'), (filters, 'database'))\n",
    "_ = dlink((filters, 'structure'), (summary, 'entity'))"
   ]
  },
  {
   "cell_type": "code",
   "execution_count": null,
   "metadata": {},
   "outputs": [],
   "source": [
    "display(HTML('<h2 style=\"margin-below:0px;padding-below:0px;\">Query a provider\\'s database</h2>'))\n",
    "display(providers)"
   ]
  },
  {
   "cell_type": "code",
   "execution_count": null,
   "metadata": {},
   "outputs": [],
   "source": [
    "display(filters)"
   ]
  },
  {
   "cell_type": "code",
   "execution_count": null,
   "metadata": {},
   "outputs": [],
   "source": [
    "display(summary)"
   ]
  }
 ],
 "metadata": {
  "kernelspec": {
   "display_name": "ipyoptimade",
   "language": "python",
   "name": "python3"
  },
  "language_info": {
   "codemirror_mode": {
    "name": "ipython",
    "version": 3
   },
   "file_extension": ".py",
   "mimetype": "text/x-python",
   "name": "python",
   "nbconvert_exporter": "python",
   "pygments_lexer": "ipython3",
   "version": "3.10.16"
  }
 },
 "nbformat": 4,
 "nbformat_minor": 4
}
